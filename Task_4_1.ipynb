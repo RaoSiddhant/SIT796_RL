{
  "nbformat": 4,
  "nbformat_minor": 0,
  "metadata": {
    "colab": {
      "name": "Task_4_1.ipynb",
      "provenance": [],
      "collapsed_sections": [],
      "authorship_tag": "ABX9TyNEr3bMnWwJNKcOD82/guUU",
      "include_colab_link": true
    },
    "kernelspec": {
      "name": "python3",
      "display_name": "Python 3"
    },
    "language_info": {
      "name": "python"
    }
  },
  "cells": [
    {
      "cell_type": "markdown",
      "metadata": {
        "id": "view-in-github",
        "colab_type": "text"
      },
      "source": [
        "<a href=\"https://colab.research.google.com/github/RaoSiddhant/SIT796_RL/blob/main/Task_4_1.ipynb\" target=\"_parent\"><img src=\"https://colab.research.google.com/assets/colab-badge.svg\" alt=\"Open In Colab\"/></a>"
      ]
    },
    {
      "cell_type": "code",
      "metadata": {
        "id": "E21tMqC-IIVl"
      },
      "source": [
        "#FOR VALUE ITERATION\n",
        "#Importing Relevant Packages for the Environment Setup\n",
        "#This is th same environment we set up for Task 1.1 and 1.2\n",
        "#We have a university campus map, states, actions taken by bus defined here\n",
        "#and we use this later to show Value Iteration on this scoped environment \n",
        "import sys\n",
        "from contextlib import closing\n",
        "from io import StringIO\n",
        "from gym import utils\n",
        "from gym.envs.toy_text import discrete\n",
        "import numpy as np\n",
        "import gym\n",
        "from gym import error, spaces, utils\n",
        "from gym.utils import seeding\n",
        "import numpy as np\n",
        "\n",
        "CAMPUS_MAP = [\n",
        "    \"+---------+\",\n",
        "    \"|R: | : :G|\",\n",
        "    \"| : | : : |\",\n",
        "    \"| : : : : |\",\n",
        "    \"| | : | : |\",\n",
        "    \"|Y| : |B: |\",\n",
        "    \"+---------+\",\n",
        "]\n",
        "\n",
        "class Univ_Camp_Bus(discrete.DiscreteEnv):\n",
        "    \n",
        "    def __init__(self):\n",
        "        self.desc = np.asarray(CAMPUS_MAP, dtype='c')\n",
        "\n",
        "        self.locs = locs = [(0, 0), (0, 4), (4, 0), (4, 3)]\n",
        "\n",
        "        num_states = 500\n",
        "        num_rows = 5\n",
        "        num_columns = 5\n",
        "        max_row = num_rows - 1\n",
        "        max_col = num_columns - 1\n",
        "        initial_state_distrib = np.zeros(num_states)\n",
        "        num_actions = 6\n",
        "        P = {state: {action: []\n",
        "                     for action in range(num_actions)} for state in range(num_states)}\n",
        "        for row in range(num_rows):\n",
        "            for col in range(num_columns):\n",
        "                for pass_idx in range(len(locs) + 1):  # +1 for being inside bus\n",
        "                    for dest_idx in range(len(locs)):\n",
        "                        state = self.encode(row, col, pass_idx, dest_idx)\n",
        "                        if pass_idx < 4 and pass_idx != dest_idx:\n",
        "                            initial_state_distrib[state] += 1\n",
        "                        for action in range(num_actions):\n",
        "                            # defaults\n",
        "                            new_row, new_col, new_pass_idx = row, col, pass_idx\n",
        "                            reward = -1  # default reward when there is no pickup/dropoff\n",
        "                            done = False\n",
        "                            bus_loc = (row, col)\n",
        "\n",
        "                            if action == 0:\n",
        "                                new_row = min(row + 1, max_row)\n",
        "                            elif action == 1:\n",
        "                                new_row = max(row - 1, 0)\n",
        "                            if action == 2 and self.desc[1 + row, 2 * col + 2] == b\":\":\n",
        "                                new_col = min(col + 1, max_col)\n",
        "                            elif action == 3 and self.desc[1 + row, 2 * col] == b\":\":\n",
        "                                new_col = max(col - 1, 0)\n",
        "                            elif action == 4:  # pickup\n",
        "                                if (pass_idx < 4 and bus_loc == locs[pass_idx]):\n",
        "                                    new_pass_idx = 4\n",
        "                                else:  # batch of students not at location\n",
        "                                    reward = -10\n",
        "                            elif action == 5:  # dropoff\n",
        "                                if (bus_loc == locs[dest_idx]) and pass_idx == 4:\n",
        "                                    new_pass_idx = dest_idx\n",
        "                                    done = True\n",
        "                                    reward = 20\n",
        "                                elif (bus_loc in locs) and pass_idx == 4:\n",
        "                                    new_pass_idx = locs.index(bus_loc)\n",
        "                                else:  # dropoff at wrong location\n",
        "                                    reward = -10\n",
        "                            new_state = self.encode(\n",
        "                                new_row, new_col, new_pass_idx, dest_idx)\n",
        "                            P[state][action].append(\n",
        "                                (1.0, new_state, reward, done))\n",
        "        initial_state_distrib /= initial_state_distrib.sum()\n",
        "        discrete.DiscreteEnv.__init__(\n",
        "            self, num_states, num_actions, P, initial_state_distrib)\n",
        "\n",
        "    def encode(self, bus_row, bus_col, pass_loc, dest_idx):\n",
        "        # (5) 5, 5, 4\n",
        "        i = bus_row\n",
        "        i *= 5\n",
        "        i += bus_col\n",
        "        i *= 5\n",
        "        i += pass_loc\n",
        "        i *= 4\n",
        "        i += dest_idx\n",
        "        return i\n",
        "\n",
        "    def decode(self, i):\n",
        "        out = []\n",
        "        out.append(i % 4)\n",
        "        i = i // 4\n",
        "        out.append(i % 5)\n",
        "        i = i // 5\n",
        "        out.append(i % 5)\n",
        "        i = i // 5\n",
        "        out.append(i)\n",
        "        assert 0 <= i < 5\n",
        "        return reversed(out)\n",
        "\n",
        "    def np_random(seed=None):\n",
        "      if seed is not None and not (isinstance(seed, int) and 0 <= seed):\n",
        "        raise error.Error('Seed must be a non-negative integer or omitted, not {}'.format(seed))\n",
        "\n",
        "      seed = create_seed(seed)\n",
        "\n",
        "      rng = np.random.RandomState()\n",
        "      rng.seed(_int_list_from_bigint(hash_seed(seed)))\n",
        "      return rng, seed\n",
        "\n",
        "    def render(self, mode='human'):\n",
        "        outfile = StringIO() if mode == 'ansi' else sys.stdout\n",
        "\n",
        "        out = self.desc.copy().tolist()\n",
        "        out = [[c.decode('utf-8') for c in line] for line in out]\n",
        "        bus_row, bus_col, pass_idx, dest_idx = self.decode(self.s)\n",
        "\n",
        "        def ul(x): return \"_\" if x == \" \" else x\n",
        "        if pass_idx < 4:\n",
        "            out[1 + bus_row][2 * bus_col + 1] = utils.colorize(\n",
        "                out[1 + bus_row][2 * bus_col + 1], 'yellow', highlight=True)\n",
        "            pi, pj = self.locs[pass_idx]\n",
        "            out[1 + pi][2 * pj + 1] = utils.colorize(out[1 + pi][2 * pj + 1], 'blue', bold=True)\n",
        "        else:  # Batch of students in bus\n",
        "            out[1 + bus_row][2 * bus_col + 1] = utils.colorize(\n",
        "                ul(out[1 + bus_row][2 * bus_col + 1]), 'green', highlight=True)\n",
        "\n",
        "        di, dj = self.locs[dest_idx]\n",
        "        out[1 + di][2 * dj + 1] = utils.colorize(out[1 + di][2 * dj + 1], 'magenta')\n",
        "        outfile.write(\"\\n\".join([\"\".join(row) for row in out]) + \"\\n\")\n",
        "        if self.lastaction is not None:\n",
        "            outfile.write(\"  ({})\\n\".format([\"South\", \"North\", \"East\", \"West\", \"Pickup\", \"Dropoff\"][self.lastaction]))\n",
        "        else:\n",
        "            outfile.write(\"\\n\")\n",
        "\n",
        "        # No need to return anything for human\n",
        "        if mode != 'human':\n",
        "            with closing(outfile):\n",
        "                return outfile.getvalue()\n",
        "\n",
        "\n",
        "  \n"
      ],
      "execution_count": 41,
      "outputs": []
    },
    {
      "cell_type": "code",
      "metadata": {
        "colab": {
          "base_uri": "https://localhost:8080/"
        },
        "id": "hU_GeVU9IMX2",
        "outputId": "732a9933-fc20-4ca4-e387-4bf875cae335"
      },
      "source": [
        "#VALUE ITERATION FOR MDP's For our evironment as per task 1.1 and 1.2 \n",
        "#Importing Relevant Packages \n",
        "\n",
        "import gym # openAi gym\n",
        "from gym import envs\n",
        "import numpy as np \n",
        "import datetime\n",
        "import keras \n",
        "import matplotlib.pyplot as plt\n",
        "import seaborn as sns\n",
        "%matplotlib inline\n",
        "import pandas as pd \n",
        "from time import sleep\n",
        "import warnings\n",
        "warnings.filterwarnings('ignore')\n",
        "\n",
        "\n",
        "#Calling the environment and showing the numer of States, Actions and Transition Probabilities, nexte state and rewards for each State-Action Pair\n",
        "env = Univ_Camp_Bus()\n",
        "env.reset()\n",
        "\n",
        "print('Number of States for our Environment are:',env.observation_space.n)\n",
        "print('Number of Actions for our Environment are:',env.action_space.n)"
      ],
      "execution_count": 42,
      "outputs": [
        {
          "output_type": "stream",
          "text": [
            "Number of States for our Environment are: 500\n",
            "Number of Actions for our Environment are: 6\n"
          ],
          "name": "stdout"
        }
      ]
    },
    {
      "cell_type": "code",
      "metadata": {
        "id": "ZTZ9b7KjIhUO"
      },
      "source": [
        "#We define the VALUE ITERATION function here\n",
        "#It takes the environment which we defined above, theta or the the limit to stop evaluation if value reaches below this value\n",
        "#and discount factor gamma here\n",
        "#It returns a tuple of the optimal policy and the optimal value function\n",
        "\n",
        "def value_iteration(env, theta, discount_factor):\n",
        "\n",
        "    \n",
        "    def one_step_lookahead(state, V):\n",
        "        \n",
        "        A = np.zeros(env.nA)\n",
        "        for act in range(env.nA):\n",
        "            for prob, next_state, reward, done in env.P[state][act]:\n",
        "                A[act] += prob * (reward + discount_factor*V[next_state])\n",
        "        return A\n",
        "    \n",
        "    V = np.zeros(env.nS)\n",
        "    while True:\n",
        "        delta = 0  #checker for improvements across states\n",
        "        for state in range(env.nS):\n",
        "            act_values = one_step_lookahead(state,V)  #lookahead one step\n",
        "            best_act_value = np.max(act_values) #get best action value\n",
        "            delta = max(delta,np.abs(best_act_value - V[state]))  #find max delta across all states\n",
        "            V[state] = best_act_value  #update value to best action value\n",
        "        if delta < theta:  #if max improvement less than threshold\n",
        "            break\n",
        "    policy = np.zeros([env.nS, env.nA])\n",
        "    for state in range(env.nS):  #for all states, create deterministic policy\n",
        "        act_val = one_step_lookahead(state,V)\n",
        "        best_action = np.argmax(act_val)\n",
        "        policy[state][best_action] = 1\n",
        "        \n",
        "    \n",
        "    # Implement!\n",
        "    return policy, V"
      ],
      "execution_count": 43,
      "outputs": []
    },
    {
      "cell_type": "code",
      "metadata": {
        "colab": {
          "base_uri": "https://localhost:8080/"
        },
        "id": "a2vn5n2QIqku",
        "outputId": "a0a114e8-006f-499e-ef82-a945273335f5"
      },
      "source": [
        "env = Univ_Camp_Bus()\n",
        "val_iter_policy = value_iteration(env,theta=0.00001,discount_factor=0.99)\n",
        "print('The optimal policy chosen as per value iteration is:\\n',val_iter_policy[0])"
      ],
      "execution_count": 44,
      "outputs": [
        {
          "output_type": "stream",
          "text": [
            "The optimal policy chosen as per value iteration is:\n",
            " [[0. 0. 0. 0. 1. 0.]\n",
            " [0. 0. 0. 0. 1. 0.]\n",
            " [0. 0. 0. 0. 1. 0.]\n",
            " ...\n",
            " [0. 1. 0. 0. 0. 0.]\n",
            " [0. 1. 0. 0. 0. 0.]\n",
            " [0. 0. 0. 1. 0. 0.]]\n"
          ],
          "name": "stdout"
        }
      ]
    },
    {
      "cell_type": "code",
      "metadata": {
        "colab": {
          "base_uri": "https://localhost:8080/",
          "height": 609
        },
        "id": "biNr8I5zJIbA",
        "outputId": "089798af-e5f9-414d-b7e4-263bf82f9e2c"
      },
      "source": [
        "#We finally show the Average Rewards vs Episodes for Value Iteration\n",
        "def play_episodes(environment, n_episodes, policy):\n",
        "        count = 0\n",
        "        total_reward = 0\n",
        "        avg_rew=[]\n",
        "        rew_per_cnt=[]\n",
        "        for episode in range(n_episodes):\n",
        "          terminated = False\n",
        "          state = environment.reset()\n",
        "          while not terminated:\n",
        "            # Select best action to perform in a current state\n",
        "            action = np.argmax(policy[state])\n",
        "            # Perform an action an observe how environment acted in response\n",
        "            next_state, reward, terminated, info = environment.step(action)\n",
        "            # Summarize total reward\n",
        "            count+=1\n",
        "            \n",
        "            total_reward += reward\n",
        "            reward_per_count = total_reward/count\n",
        "                                                \n",
        "            # Update current state\n",
        "            state = next_state\n",
        "          \n",
        "          avg_rew.append(total_reward/n_episodes) \n",
        "          rew_per_cnt.append(reward_per_count)          \n",
        "                        \n",
        "        average_reward = total_reward / n_episodes\n",
        "        plt.plot(avg_rew)\n",
        "        plt.xlabel('Episodes')\n",
        "        plt.ylabel('Average Rewards')\n",
        "        plt.title('Average Rewards vs Episode for Value Iteration Case for Our Environment')\n",
        "        plt.show()\n",
        "        plt.plot(rew_per_cnt)\n",
        "        plt.xlabel('Episodes')\n",
        "        plt.ylabel('Average Rewards/Action')\n",
        "        plt.title('Average Rewards per Action per Episode for Value Iteration Case for Our Environment')\n",
        "        plt.show()\n",
        "        return total_reward, average_reward\n",
        "\n",
        "# Number of episodes. We keep it to 1000 as per the question\n",
        "n_episodes = 1000\n",
        "\n",
        "# Call the chosen environment\n",
        "environment = Univ_Camp_Bus()\n",
        "# Search for an optimal policy using value iteration\n",
        "policy = val_iter_policy[0]\n",
        "# Apply best policy to the real environment\n",
        "total_reward, average_reward = play_episodes(environment, n_episodes, policy)\n",
        "print('The Total Rewards for all 1000 episodes are: ',total_reward)\n",
        "print('The Average Rewards for all 1000 episodes are: ',average_reward)"
      ],
      "execution_count": 45,
      "outputs": [
        {
          "output_type": "display_data",
          "data": {
            "image/png": "[encoded data removed]",
            "text/plain": [
              "<Figure size 432x288 with 1 Axes>"
            ]
          },
          "metadata": {
            "tags": [],
            "needs_background": "light"
          }
        },
        {
          "output_type": "display_data",
          "data": {
            "image/png": "[encoded data removed]",
            "text/plain": [
              "<Figure size 432x288 with 1 Axes>"
            ]
          },
          "metadata": {
            "tags": [],
            "needs_background": "light"
          }
        },
        {
          "output_type": "stream",
          "text": [
            "The Total Rewards for all 1000 episodes are:  7803\n",
            "The Average Rewards for all 1000 episodes are:  7.803\n"
          ],
          "name": "stdout"
        }
      ]
    }
  ]
}